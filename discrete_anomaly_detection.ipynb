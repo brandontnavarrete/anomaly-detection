{
 "cells": [
  {
   "cell_type": "markdown",
   "id": "0da1b5da",
   "metadata": {},
   "source": [
    "# Use basic probability to identify anomalous requests. Using the methods covered in this lesson, examine the rest of the features in the api access logs data set."
   ]
  },
  {
   "cell_type": "code",
   "execution_count": null,
   "id": "6764fda3",
   "metadata": {},
   "outputs": [],
   "source": [
    "# essential imports\n",
    "import numpy as np\n",
    "import pandas as pd\n",
    "# visuals\n",
    "import matplotlib.pyplot as plt\n",
    "import seaborn as sns\n",
    "\n",
    "# sklearn\n",
    "from sklearn import metrics\n",
    "\n",
    "# credentials\n",
    "import env\n"
   ]
  }
 ],
 "metadata": {
  "kernelspec": {
   "display_name": "Python 3 (ipykernel)",
   "language": "python",
   "name": "python3"
  },
  "language_info": {
   "codemirror_mode": {
    "name": "ipython",
    "version": 3
   },
   "file_extension": ".py",
   "mimetype": "text/x-python",
   "name": "python",
   "nbconvert_exporter": "python",
   "pygments_lexer": "ipython3",
   "version": "3.9.13"
  }
 },
 "nbformat": 4,
 "nbformat_minor": 5
}
